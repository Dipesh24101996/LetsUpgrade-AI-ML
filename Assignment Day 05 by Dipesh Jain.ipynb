{
 "cells": [
  {
   "cell_type": "markdown",
   "metadata": {},
   "source": [
    "# Question 1 :\n",
    "Write a Python program to find the first 20 non-even prime natural numbers."
   ]
  },
  {
   "cell_type": "code",
   "execution_count": 35,
   "metadata": {},
   "outputs": [
    {
     "name": "stdout",
     "output_type": "stream",
     "text": [
      "The first 20 non-even prime natural numbers are:\n",
      "3 5 7 11 13 17 19 23 29 31 37 41 43 47 53 59 61 67 71 73 "
     ]
    }
   ],
   "source": [
    "c = 0\n",
    "print(\"The first 20 non-even prime natural numbers are:\")\n",
    "for num in range(3,201):\n",
    "    if num>1:\n",
    "        for i in range(2,num):\n",
    "            if (num%i) ==0:\n",
    "                break\n",
    "        else:\n",
    "            c+=1\n",
    "            print(num, end = \" \")\n",
    "        if c==20:\n",
    "            break"
   ]
  },
  {
   "cell_type": "markdown",
   "metadata": {},
   "source": [
    "# Question 2 :\n",
    "Write a Python program to implement 15 functions of string."
   ]
  },
  {
   "cell_type": "code",
   "execution_count": 93,
   "metadata": {},
   "outputs": [
    {
     "name": "stdout",
     "output_type": "stream",
     "text": [
      "Dipesh jain@1\n",
      "False\n",
      "False\n",
      "False\n",
      "False\n",
      "dipesh jain@1\n",
      "depesh Jaen@1\n",
      "DIPESH jAIN@1\n",
      "Dipesh Jain@1\n",
      "8\n",
      "False\n",
      "False\n",
      "False\n",
      "2\n"
     ]
    },
    {
     "data": {
      "text/plain": [
       "13"
      ]
     },
     "execution_count": 93,
     "metadata": {},
     "output_type": "execute_result"
    }
   ],
   "source": [
    "d = \"dipesh Jain@1\"\n",
    "\n",
    "print(d.capitalize())\n",
    "print(d.isalnum())\n",
    "print(d.isalpha())\n",
    "print(d.isdigit())\n",
    "print(d.isalpha())\n",
    "print(d.lower())\n",
    "print(d.replace('i','e'))\n",
    "print(d.swapcase())\n",
    "print(d.title())\n",
    "print(d.rfind('a'))\n",
    "print(d.isupper())\n",
    "print(d.istitle())\n",
    "print(d.isspace())\n",
    "print(d.find('p'))\n",
    "len(d)"
   ]
  },
  {
   "cell_type": "markdown",
   "metadata": {},
   "source": [
    "# Question 3:\n",
    "Write a Python program to check if the given string is a Palindrome or Anagram or None of them.\n",
    "Display the message accordingly to the user."
   ]
  },
  {
   "cell_type": "code",
   "execution_count": 100,
   "metadata": {},
   "outputs": [
    {
     "name": "stdout",
     "output_type": "stream",
     "text": [
      "madam ,it is a palindrome\n"
     ]
    }
   ],
   "source": [
    "def checkpalindrome(p):\n",
    "    if p == p[::-1]:\n",
    "        print(p, \",it is a palindrome\")\n",
    "    else: \n",
    "        print(p, \",it is not a palindrome\")\n",
    "        \n",
    "checkpalindrome(\"madam\")"
   ]
  },
  {
   "cell_type": "code",
   "execution_count": 106,
   "metadata": {},
   "outputs": [
    {
     "name": "stdout",
     "output_type": "stream",
     "text": [
      "funeral : real fun , are anagrams\n"
     ]
    }
   ],
   "source": [
    "def checkanagram(s,r):\n",
    "    Firstword = list(s)\n",
    "    Firstword.sort()\n",
    "    Secondword = list(r)\n",
    "    Secondword.sort()\n",
    "    if Firstword.sort() == Secondword.sort():\n",
    "        print(s,\":\",r,\",\", \"are anagrams\")\n",
    "\n",
    "checkanagram(\"funeral\",\"real fun\")"
   ]
  },
  {
   "cell_type": "markdown",
   "metadata": {},
   "source": [
    "# Question 4:\n",
    "Write a Python's user defined function that removes all the additional characters from the string\n",
    "and converts it finally to lower case using built-in lower(). eg: If the string is \"Dr. Darshan Ingle\n",
    "@AI-ML Trainer\", then the output be \"drdarshaningle aimltrainer\"."
   ]
  },
  {
   "cell_type": "code",
   "execution_count": 110,
   "metadata": {},
   "outputs": [
    {
     "data": {
      "text/plain": [
       "'DrDarshanIngleAIMLTrainer'"
      ]
     },
     "execution_count": 110,
     "metadata": {},
     "output_type": "execute_result"
    }
   ],
   "source": [
    "a =  \"Dr. Darshan Ingle @AI-ML Trainer\"\n",
    "\n",
    "b = [\".\", \" \",  \"@\", \"-\"]\n",
    "\n",
    "for i in b:\n",
    "    a = a.replace(i,'')\n",
    "a\n"
   ]
  },
  {
   "cell_type": "code",
   "execution_count": 112,
   "metadata": {},
   "outputs": [
    {
     "data": {
      "text/plain": [
       "'drdarshaningleaimltrainer'"
      ]
     },
     "execution_count": 112,
     "metadata": {},
     "output_type": "execute_result"
    }
   ],
   "source": [
    "a = a.lower()\n",
    "a"
   ]
  }
 ],
 "metadata": {
  "kernelspec": {
   "display_name": "Python 3",
   "language": "python",
   "name": "python3"
  },
  "language_info": {
   "codemirror_mode": {
    "name": "ipython",
    "version": 3
   },
   "file_extension": ".py",
   "mimetype": "text/x-python",
   "name": "python",
   "nbconvert_exporter": "python",
   "pygments_lexer": "ipython3",
   "version": "3.7.6"
  }
 },
 "nbformat": 4,
 "nbformat_minor": 4
}
