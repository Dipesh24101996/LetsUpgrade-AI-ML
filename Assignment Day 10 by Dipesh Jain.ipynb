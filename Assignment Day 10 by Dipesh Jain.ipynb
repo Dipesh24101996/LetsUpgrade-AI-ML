{
 "cells": [
  {
   "cell_type": "markdown",
   "metadata": {},
   "source": [
    "# 10 examples of Hypothesis Statement\n",
    "\n",
    "1. On an average 78% of people commuting daily through Mumbai Local train buys train ticket\n",
    "2. 72% literate parents bring computer or laptop for their children to learn and become familiar with the modern technology.\n",
    "3. Upper Middle class & middle class people have air-conditioners in their house.\n",
    "4. 60 % of indian midlle class parents take up education loans for their childs higher studies.\n",
    "5. 45% of graduated fresher students are not satisfied with their first job.\n",
    "6. Science students have better score in maths exam than commerce students.\n",
    "7. In MBA colleges, 65% of students are from engineering background.\n",
    "8. 40% of people below age 28 tries to maintain their body physique.\n",
    "9. Indian students atleast attends 3 days of college every week.\n",
    "10. On an average Indian people get married in age of 26."
   ]
  },
  {
   "cell_type": "code",
   "execution_count": null,
   "metadata": {},
   "outputs": [],
   "source": []
  }
 ],
 "metadata": {
  "kernelspec": {
   "display_name": "Python 3",
   "language": "python",
   "name": "python3"
  },
  "language_info": {
   "codemirror_mode": {
    "name": "ipython",
    "version": 3
   },
   "file_extension": ".py",
   "mimetype": "text/x-python",
   "name": "python",
   "nbconvert_exporter": "python",
   "pygments_lexer": "ipython3",
   "version": "3.7.6"
  }
 },
 "nbformat": 4,
 "nbformat_minor": 4
}
